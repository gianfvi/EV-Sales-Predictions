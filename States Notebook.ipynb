{
 "cells": [
  {
   "cell_type": "code",
   "execution_count": 3,
   "metadata": {},
   "outputs": [],
   "source": [
    "import pandas as pd"
   ]
  },
  {
   "cell_type": "code",
   "execution_count": 5,
   "metadata": {},
   "outputs": [
    {
     "name": "stderr",
     "output_type": "stream",
     "text": [
      "C:\\Users\\gianf\\AppData\\Local\\Temp\\ipykernel_26432\\3217656739.py:1: DtypeWarning: Columns (2,6) have mixed types. Specify dtype option on import or set low_memory=False.\n",
      "  wa = pd.read_csv('waev_data.csv')\n"
     ]
    },
    {
     "name": "stdout",
     "output_type": "stream",
     "text": [
      "DMV ID                           int64\n",
      "DMV Snapshot                    object\n",
      "ZIP Code                        object\n",
      "State                           object\n",
      "Registration Valid Date         object\n",
      "DMV ID Complete                 object\n",
      "Registration Expiration Date    object\n",
      "VIN Prefix                      object\n",
      "VIN Model Year                  object\n",
      "Vehicle Name                    object\n",
      "Technology                      object\n",
      "dtype: object\n"
     ]
    }
   ],
   "source": [
    "wa = pd.read_csv('waev_data.csv')\n",
    "\n",
    "# Check the data types of the columns\n",
    "print(wa.dtypes)"
   ]
  },
  {
   "cell_type": "code",
   "execution_count": 9,
   "metadata": {},
   "outputs": [],
   "source": [
    "# Step 1: Specify Data Types for problematic columns\n",
    "dtype_spec = {\n",
    "    'ZIP Code': str,  # Adjust if necessary based on actual mixed type columns\n",
    "    'Registration Expiration Date': str  # Adjust if necessary based on actual mixed type columns\n",
    "}"
   ]
  },
  {
   "cell_type": "code",
   "execution_count": 10,
   "metadata": {},
   "outputs": [],
   "source": [
    "# Step 2: Load the data\n",
    "wa = pd.read_csv('waev_data.csv', dtype=dtype_spec)"
   ]
  },
  {
   "cell_type": "code",
   "execution_count": 11,
   "metadata": {},
   "outputs": [],
   "source": [
    "# Step 3: Drop specified columns\n",
    "columns_to_drop = ['DMV ID', 'DMV Snapshot', 'ZIP Code', 'VIN Prefix', 'VIN Model Year', 'DMV ID Complete', 'Registration Expiration Date']\n",
    "wa.drop(columns=columns_to_drop, inplace=True)"
   ]
  },
  {
   "cell_type": "code",
   "execution_count": 15,
   "metadata": {},
   "outputs": [
    {
     "name": "stdout",
     "output_type": "stream",
     "text": [
      "State                      0\n",
      "Registration Valid Date    0\n",
      "Vehicle Name               0\n",
      "Technology                 0\n",
      "dtype: int64\n"
     ]
    }
   ],
   "source": [
    "# Check for null values\n",
    "null_values = wa.isnull().sum()\n",
    "\n",
    "# Print the columns with their null value counts\n",
    "print(null_values)"
   ]
  },
  {
   "cell_type": "code",
   "execution_count": 14,
   "metadata": {},
   "outputs": [
    {
     "name": "stdout",
     "output_type": "stream",
     "text": [
      "  State Registration Valid Date   Vehicle Name Technology\n",
      "0    WA                6/7/2019  Tesla Model 3        BEV\n",
      "1    WA                6/7/2019  Tesla Model 3        BEV\n",
      "2    WA                6/7/2019  Tesla Model 3        BEV\n",
      "3    WA                6/7/2019  Tesla Model 3        BEV\n",
      "4    WA                6/7/2019  Tesla Model 3        BEV\n",
      "<class 'pandas.core.frame.DataFrame'>\n",
      "RangeIndex: 2648349 entries, 0 to 2648348\n",
      "Data columns (total 4 columns):\n",
      " #   Column                   Dtype \n",
      "---  ------                   ----- \n",
      " 0   State                    object\n",
      " 1   Registration Valid Date  object\n",
      " 2   Vehicle Name             object\n",
      " 3   Technology               object\n",
      "dtypes: object(4)\n",
      "memory usage: 80.8+ MB\n",
      "None\n"
     ]
    }
   ],
   "source": [
    "# Verify the cleaned data\n",
    "print(wa.head())\n",
    "print(wa.info())"
   ]
  },
  {
   "cell_type": "code",
   "execution_count": 16,
   "metadata": {},
   "outputs": [],
   "source": [
    "# Step 4: Save the cleaned data\n",
    "output_file_path = 'cleaned_waev_data.csv'\n",
    "wa.to_csv(output_file_path, index=False)"
   ]
  },
  {
   "cell_type": "code",
   "execution_count": 17,
   "metadata": {},
   "outputs": [
    {
     "name": "stderr",
     "output_type": "stream",
     "text": [
      "C:\\Users\\gianf\\AppData\\Local\\Temp\\ipykernel_26432\\2207757696.py:1: DtypeWarning: Columns (1) have mixed types. Specify dtype option on import or set low_memory=False.\n",
      "  ca = pd.read_csv('caev_data.csv')\n"
     ]
    },
    {
     "name": "stdout",
     "output_type": "stream",
     "text": [
      "State                      object\n",
      "Registration Valid Date    object\n",
      "Vehicle Name               object\n",
      "Technology                 object\n",
      "dtype: object\n"
     ]
    }
   ],
   "source": [
    "ca = pd.read_csv('caev_data.csv')\n",
    "\n",
    "# Check the data types of the columns\n",
    "print(wa.dtypes)"
   ]
  },
  {
   "cell_type": "code",
   "execution_count": 18,
   "metadata": {},
   "outputs": [],
   "source": [
    "# Step 1: Load the data with specified data types\n",
    "dtype_spec = {\n",
    "    'ColumnName1': str  # Replace 'ColumnName1' with the actual column name with mixed types if known\n",
    "}"
   ]
  },
  {
   "cell_type": "code",
   "execution_count": 19,
   "metadata": {},
   "outputs": [],
   "source": [
    "# Load the data with specified data types\n",
    "ca = pd.read_csv('caev_data.csv', dtype=dtype_spec, low_memory=False)"
   ]
  },
  {
   "cell_type": "code",
   "execution_count": 21,
   "metadata": {},
   "outputs": [
    {
     "name": "stdout",
     "output_type": "stream",
     "text": [
      "       Vehicle ID County GEOID Registration Valid Date  DMV ID  \\\n",
      "0  CA-002-03597\\r        06099              2011-01-01       2   \n",
      "1  CA-002-03598\\r        06105              2011-01-01       2   \n",
      "2  CA-002-03599\\r        06103              2011-01-01       2   \n",
      "3  CA-002-03600\\r        06099              2011-01-01       2   \n",
      "4  CA-002-03601\\r        06099              2011-01-01       2   \n",
      "\n",
      "                                DMV Snapshot  Registration Expiration Date  \\\n",
      "0  CA Registration Data from CA (12/31/2011)                           NaN   \n",
      "1  CA Registration Data from CA (12/31/2011)                           NaN   \n",
      "2  CA Registration Data from CA (12/31/2011)                           NaN   \n",
      "3  CA Registration Data from CA (12/31/2011)                           NaN   \n",
      "4  CA Registration Data from CA (12/31/2011)                           NaN   \n",
      "\n",
      "  State Abbreviation Geography    Vehicle Name  \n",
      "0                 CA    County  Chevrolet Volt  \n",
      "1                 CA    County     Nissan Leaf  \n",
      "2                 CA    County  Chevrolet Volt  \n",
      "3                 CA    County  Tesla Roadster  \n",
      "4                 CA    County  Tesla Roadster  \n",
      "<class 'pandas.core.frame.DataFrame'>\n",
      "RangeIndex: 2542443 entries, 0 to 2542442\n",
      "Data columns (total 9 columns):\n",
      " #   Column                        Dtype  \n",
      "---  ------                        -----  \n",
      " 0   Vehicle ID                    object \n",
      " 1   County GEOID                  object \n",
      " 2   Registration Valid Date       object \n",
      " 3   DMV ID                        int64  \n",
      " 4   DMV Snapshot                  object \n",
      " 5   Registration Expiration Date  float64\n",
      " 6   State Abbreviation            object \n",
      " 7   Geography                     object \n",
      " 8   Vehicle Name                  object \n",
      "dtypes: float64(1), int64(1), object(7)\n",
      "memory usage: 174.6+ MB\n",
      "None\n"
     ]
    }
   ],
   "source": [
    "# Step 2: Inspect the data\n",
    "print(ca.head())\n",
    "print(ca.info())"
   ]
  },
  {
   "cell_type": "code",
   "execution_count": 22,
   "metadata": {},
   "outputs": [],
   "source": [
    "# Step 2: Drop specified columns\n",
    "columns_to_drop = ['Vehicle ID', 'County GEOID', 'DMV ID', 'DMV Snapshot', 'Registration Expiration Date', 'Geography']\n",
    "ca.drop(columns=columns_to_drop, inplace=True)"
   ]
  },
  {
   "cell_type": "code",
   "execution_count": 23,
   "metadata": {},
   "outputs": [
    {
     "name": "stdout",
     "output_type": "stream",
     "text": [
      "  Registration Valid Date State Abbreviation    Vehicle Name\n",
      "0              2011-01-01                 CA  Chevrolet Volt\n",
      "1              2011-01-01                 CA     Nissan Leaf\n",
      "2              2011-01-01                 CA  Chevrolet Volt\n",
      "3              2011-01-01                 CA  Tesla Roadster\n",
      "4              2011-01-01                 CA  Tesla Roadster\n",
      "<class 'pandas.core.frame.DataFrame'>\n",
      "RangeIndex: 2542443 entries, 0 to 2542442\n",
      "Data columns (total 3 columns):\n",
      " #   Column                   Dtype \n",
      "---  ------                   ----- \n",
      " 0   Registration Valid Date  object\n",
      " 1   State Abbreviation       object\n",
      " 2   Vehicle Name             object\n",
      "dtypes: object(3)\n",
      "memory usage: 58.2+ MB\n",
      "None\n"
     ]
    }
   ],
   "source": [
    "# Step 3: Inspect the data\n",
    "print(ca.head())\n",
    "print(ca.info())\n"
   ]
  },
  {
   "cell_type": "code",
   "execution_count": 24,
   "metadata": {},
   "outputs": [
    {
     "name": "stdout",
     "output_type": "stream",
     "text": [
      "Registration Valid Date    0\n",
      "State Abbreviation         0\n",
      "Vehicle Name               0\n",
      "dtype: int64\n"
     ]
    }
   ],
   "source": [
    "# Step 4: Check for null values\n",
    "null_values = ca.isnull().sum()\n",
    "print(null_values)"
   ]
  },
  {
   "cell_type": "code",
   "execution_count": 25,
   "metadata": {},
   "outputs": [],
   "source": [
    "# Step 5: Save the cleaned data\n",
    "output_file_path = 'cleaned_caev_data.csv'\n",
    "ca.to_csv(output_file_path, index=False)"
   ]
  },
  {
   "cell_type": "code",
   "execution_count": 27,
   "metadata": {},
   "outputs": [
    {
     "name": "stderr",
     "output_type": "stream",
     "text": [
      "C:\\Users\\gianf\\AppData\\Local\\Temp\\ipykernel_26432\\666247780.py:1: DtypeWarning: Columns (7) have mixed types. Specify dtype option on import or set low_memory=False.\n",
      "  ny = pd.read_csv('nyev_data.csv')\n"
     ]
    },
    {
     "name": "stdout",
     "output_type": "stream",
     "text": [
      "State                       object\n",
      "ZIP Code                    object\n",
      "Registration Date           object\n",
      "Vehicle Make                object\n",
      "Vehicle Model               object\n",
      "Vehicle Model Year           int64\n",
      "Drivetrain Type             object\n",
      "Vehicle GVWR Class          object\n",
      "Vehicle GVWR Category       object\n",
      "Vehicle Count                int64\n",
      "DMV Snapshot ID              int64\n",
      "DMV Snapshot (Date)         object\n",
      "Latest DMV Snapshot Flag      bool\n",
      "dtype: object\n"
     ]
    }
   ],
   "source": [
    "ny = pd.read_csv('nyev_data.csv')\n",
    "\n",
    "# Check the data types of the columns\n",
    "print(ny.dtypes)"
   ]
  },
  {
   "cell_type": "code",
   "execution_count": 29,
   "metadata": {},
   "outputs": [
    {
     "data": {
      "text/html": [
       "<div>\n",
       "<style scoped>\n",
       "    .dataframe tbody tr th:only-of-type {\n",
       "        vertical-align: middle;\n",
       "    }\n",
       "\n",
       "    .dataframe tbody tr th {\n",
       "        vertical-align: top;\n",
       "    }\n",
       "\n",
       "    .dataframe thead th {\n",
       "        text-align: right;\n",
       "    }\n",
       "</style>\n",
       "<table border=\"1\" class=\"dataframe\">\n",
       "  <thead>\n",
       "    <tr style=\"text-align: right;\">\n",
       "      <th></th>\n",
       "      <th>State</th>\n",
       "      <th>ZIP Code</th>\n",
       "      <th>Registration Date</th>\n",
       "      <th>Vehicle Make</th>\n",
       "      <th>Vehicle Model</th>\n",
       "      <th>Vehicle Model Year</th>\n",
       "      <th>Drivetrain Type</th>\n",
       "      <th>Vehicle GVWR Class</th>\n",
       "      <th>Vehicle GVWR Category</th>\n",
       "      <th>Vehicle Count</th>\n",
       "      <th>DMV Snapshot ID</th>\n",
       "      <th>DMV Snapshot (Date)</th>\n",
       "      <th>Latest DMV Snapshot Flag</th>\n",
       "    </tr>\n",
       "  </thead>\n",
       "  <tbody>\n",
       "    <tr>\n",
       "      <th>0</th>\n",
       "      <td>NY</td>\n",
       "      <td>14882</td>\n",
       "      <td>12/1/2018</td>\n",
       "      <td>TESLA</td>\n",
       "      <td>MODEL 3</td>\n",
       "      <td>2018</td>\n",
       "      <td>BEV</td>\n",
       "      <td>1</td>\n",
       "      <td>Light-Duty (Class 1-2A)</td>\n",
       "      <td>1</td>\n",
       "      <td>29</td>\n",
       "      <td>DMV Snapshot (8/2/2019)</td>\n",
       "      <td>False</td>\n",
       "    </tr>\n",
       "    <tr>\n",
       "      <th>1</th>\n",
       "      <td>NY</td>\n",
       "      <td>12477</td>\n",
       "      <td>12/1/2018</td>\n",
       "      <td>TESLA</td>\n",
       "      <td>MODEL 3</td>\n",
       "      <td>2018</td>\n",
       "      <td>BEV</td>\n",
       "      <td>1</td>\n",
       "      <td>Light-Duty (Class 1-2A)</td>\n",
       "      <td>1</td>\n",
       "      <td>25</td>\n",
       "      <td>DMV Snapshot (4/2/2019)</td>\n",
       "      <td>False</td>\n",
       "    </tr>\n",
       "    <tr>\n",
       "      <th>2</th>\n",
       "      <td>NY</td>\n",
       "      <td>11954</td>\n",
       "      <td>12/1/2018</td>\n",
       "      <td>TESLA</td>\n",
       "      <td>MODEL 3</td>\n",
       "      <td>2018</td>\n",
       "      <td>BEV</td>\n",
       "      <td>1</td>\n",
       "      <td>Light-Duty (Class 1-2A)</td>\n",
       "      <td>1</td>\n",
       "      <td>34</td>\n",
       "      <td>DMV Snapshot (1/2/2020)</td>\n",
       "      <td>False</td>\n",
       "    </tr>\n",
       "    <tr>\n",
       "      <th>3</th>\n",
       "      <td>NY</td>\n",
       "      <td>12816</td>\n",
       "      <td>12/1/2018</td>\n",
       "      <td>TESLA</td>\n",
       "      <td>MODEL 3</td>\n",
       "      <td>2018</td>\n",
       "      <td>BEV</td>\n",
       "      <td>1</td>\n",
       "      <td>Light-Duty (Class 1-2A)</td>\n",
       "      <td>1</td>\n",
       "      <td>38</td>\n",
       "      <td>DMV Snapshot (5/4/2020)</td>\n",
       "      <td>False</td>\n",
       "    </tr>\n",
       "    <tr>\n",
       "      <th>4</th>\n",
       "      <td>NY</td>\n",
       "      <td>13440</td>\n",
       "      <td>12/1/2018</td>\n",
       "      <td>TESLA</td>\n",
       "      <td>MODEL 3</td>\n",
       "      <td>2018</td>\n",
       "      <td>BEV</td>\n",
       "      <td>1</td>\n",
       "      <td>Light-Duty (Class 1-2A)</td>\n",
       "      <td>1</td>\n",
       "      <td>22</td>\n",
       "      <td>DMV Snapshot (1/2/2019)</td>\n",
       "      <td>False</td>\n",
       "    </tr>\n",
       "  </tbody>\n",
       "</table>\n",
       "</div>"
      ],
      "text/plain": [
       "  State ZIP Code Registration Date Vehicle Make Vehicle Model  \\\n",
       "0    NY    14882         12/1/2018        TESLA       MODEL 3   \n",
       "1    NY    12477         12/1/2018        TESLA       MODEL 3   \n",
       "2    NY    11954         12/1/2018        TESLA       MODEL 3   \n",
       "3    NY    12816         12/1/2018        TESLA       MODEL 3   \n",
       "4    NY    13440         12/1/2018        TESLA       MODEL 3   \n",
       "\n",
       "   Vehicle Model Year Drivetrain Type Vehicle GVWR Class  \\\n",
       "0                2018             BEV                  1   \n",
       "1                2018             BEV                  1   \n",
       "2                2018             BEV                  1   \n",
       "3                2018             BEV                  1   \n",
       "4                2018             BEV                  1   \n",
       "\n",
       "     Vehicle GVWR Category  Vehicle Count  DMV Snapshot ID  \\\n",
       "0  Light-Duty (Class 1-2A)              1               29   \n",
       "1  Light-Duty (Class 1-2A)              1               25   \n",
       "2  Light-Duty (Class 1-2A)              1               34   \n",
       "3  Light-Duty (Class 1-2A)              1               38   \n",
       "4  Light-Duty (Class 1-2A)              1               22   \n",
       "\n",
       "       DMV Snapshot (Date)  Latest DMV Snapshot Flag  \n",
       "0  DMV Snapshot (8/2/2019)                     False  \n",
       "1  DMV Snapshot (4/2/2019)                     False  \n",
       "2  DMV Snapshot (1/2/2020)                     False  \n",
       "3  DMV Snapshot (5/4/2020)                     False  \n",
       "4  DMV Snapshot (1/2/2019)                     False  "
      ]
     },
     "execution_count": 29,
     "metadata": {},
     "output_type": "execute_result"
    }
   ],
   "source": [
    "ny.head()"
   ]
  },
  {
   "cell_type": "code",
   "execution_count": 30,
   "metadata": {},
   "outputs": [],
   "source": [
    "# Step 2: Drop specified columns\n",
    "columns_to_drop = ['ZIP Code', 'Vehicle GVWR Class', 'Vehicle GVWR Category', 'DMV Snapshot ID', 'DMV Snapshot (Date)', 'Latest DMV Snapshot Flag']\n",
    "ny.drop(columns=columns_to_drop, inplace=True)"
   ]
  },
  {
   "cell_type": "code",
   "execution_count": 31,
   "metadata": {},
   "outputs": [
    {
     "name": "stdout",
     "output_type": "stream",
     "text": [
      "  State Registration Date Vehicle Make Vehicle Model  Vehicle Model Year  \\\n",
      "0    NY         12/1/2018        TESLA       MODEL 3                2018   \n",
      "1    NY         12/1/2018        TESLA       MODEL 3                2018   \n",
      "2    NY         12/1/2018        TESLA       MODEL 3                2018   \n",
      "3    NY         12/1/2018        TESLA       MODEL 3                2018   \n",
      "4    NY         12/1/2018        TESLA       MODEL 3                2018   \n",
      "\n",
      "  Drivetrain Type  Vehicle Count  \n",
      "0             BEV              1  \n",
      "1             BEV              1  \n",
      "2             BEV              1  \n",
      "3             BEV              1  \n",
      "4             BEV              1  \n",
      "<class 'pandas.core.frame.DataFrame'>\n",
      "RangeIndex: 5567236 entries, 0 to 5567235\n",
      "Data columns (total 7 columns):\n",
      " #   Column              Dtype \n",
      "---  ------              ----- \n",
      " 0   State               object\n",
      " 1   Registration Date   object\n",
      " 2   Vehicle Make        object\n",
      " 3   Vehicle Model       object\n",
      " 4   Vehicle Model Year  int64 \n",
      " 5   Drivetrain Type     object\n",
      " 6   Vehicle Count       int64 \n",
      "dtypes: int64(2), object(5)\n",
      "memory usage: 297.3+ MB\n",
      "None\n"
     ]
    }
   ],
   "source": [
    "print(ny.head())\n",
    "print(ny.info())"
   ]
  },
  {
   "cell_type": "code",
   "execution_count": 54,
   "metadata": {},
   "outputs": [],
   "source": [
    "# Step 2: Concatenate 'Vehicle Make' and 'Vehicle Model' into 'Vehicle Name'\n",
    "ny['Vehicle Name'] = ny['Vehicle Make'].str.title() + ' ' + ny['Vehicle Model'].str.title()"
   ]
  },
  {
   "cell_type": "code",
   "execution_count": 56,
   "metadata": {},
   "outputs": [],
   "source": [
    "# Step 3: Drop the original 'Vehicle Make' and 'Vehicle Model' columns\n",
    "columns_to_drop = ['Vehicle Make', 'Vehicle Model']\n",
    "ny.drop(columns=columns_to_drop, inplace=True)"
   ]
  },
  {
   "cell_type": "code",
   "execution_count": 58,
   "metadata": {},
   "outputs": [
    {
     "name": "stdout",
     "output_type": "stream",
     "text": [
      "  State Registration Date  Vehicle Model Year Drivetrain Type  Vehicle Count  \\\n",
      "0    NY         12/1/2018                2018             BEV              1   \n",
      "1    NY         12/1/2018                2018             BEV              1   \n",
      "2    NY         12/1/2018                2018             BEV              1   \n",
      "3    NY         12/1/2018                2018             BEV              1   \n",
      "4    NY         12/1/2018                2018             BEV              1   \n",
      "\n",
      "    Vehicle Name  \n",
      "0  Tesla Model 3  \n",
      "1  Tesla Model 3  \n",
      "2  Tesla Model 3  \n",
      "3  Tesla Model 3  \n",
      "4  Tesla Model 3  \n",
      "<class 'pandas.core.frame.DataFrame'>\n",
      "RangeIndex: 5567236 entries, 0 to 5567235\n",
      "Data columns (total 6 columns):\n",
      " #   Column              Dtype \n",
      "---  ------              ----- \n",
      " 0   State               object\n",
      " 1   Registration Date   object\n",
      " 2   Vehicle Model Year  int64 \n",
      " 3   Drivetrain Type     object\n",
      " 4   Vehicle Count       int64 \n",
      " 5   Vehicle Name        object\n",
      "dtypes: int64(2), object(4)\n",
      "memory usage: 254.8+ MB\n",
      "None\n"
     ]
    }
   ],
   "source": [
    "print(ny.head())\n",
    "print(ny.info())"
   ]
  },
  {
   "cell_type": "code",
   "execution_count": 59,
   "metadata": {},
   "outputs": [
    {
     "name": "stdout",
     "output_type": "stream",
     "text": [
      "State                 0\n",
      "Registration Date     0\n",
      "Vehicle Model Year    0\n",
      "Drivetrain Type       0\n",
      "Vehicle Count         0\n",
      "Vehicle Name          0\n",
      "dtype: int64\n"
     ]
    }
   ],
   "source": [
    "# Step 4: Check for null values\n",
    "null_values = ny.isnull().sum()\n",
    "print(null_values)\n"
   ]
  },
  {
   "cell_type": "code",
   "execution_count": 60,
   "metadata": {},
   "outputs": [],
   "source": [
    "# Step 5: Save the cleaned data\n",
    "output_file_path = 'cleaned_nyev_data.csv'\n",
    "ny.to_csv(output_file_path, index=False)"
   ]
  },
  {
   "cell_type": "code",
   "execution_count": 35,
   "metadata": {},
   "outputs": [],
   "source": [
    "# Step 1: Load the data with low_memory=False to handle mixed types warning\n",
    "flev = pd.read_csv('flev_data.csv', low_memory=False)"
   ]
  },
  {
   "cell_type": "code",
   "execution_count": 36,
   "metadata": {},
   "outputs": [
    {
     "name": "stdout",
     "output_type": "stream",
     "text": [
      "   DMV ID                     DMV Snapshot (Date) County   Vehicle Name  \\\n",
      "0       1  Registration Data from FPL (6/30/2018)   Dade  Tesla Model X   \n",
      "1       1  Registration Data from FPL (6/30/2018)   Dade  Tesla Model X   \n",
      "2       1  Registration Data from FPL (6/30/2018)   Dade  Tesla Model X   \n",
      "3       1  Registration Data from FPL (6/30/2018)   Dade  Tesla Model X   \n",
      "4       1  Registration Data from FPL (6/30/2018)   Dade  Tesla Model X   \n",
      "\n",
      "  Registration Valid Date  Registration Expiration Date Technology  \n",
      "0               6/30/2018                           NaN        BEV  \n",
      "1               6/30/2018                           NaN        BEV  \n",
      "2               6/30/2018                           NaN        BEV  \n",
      "3               6/30/2018                           NaN        BEV  \n",
      "4               6/30/2018                           NaN        BEV  \n",
      "<class 'pandas.core.frame.DataFrame'>\n",
      "RangeIndex: 353974 entries, 0 to 353973\n",
      "Data columns (total 7 columns):\n",
      " #   Column                        Non-Null Count   Dtype  \n",
      "---  ------                        --------------   -----  \n",
      " 0   DMV ID                        353974 non-null  int64  \n",
      " 1   DMV Snapshot (Date)           353974 non-null  object \n",
      " 2   County                        353974 non-null  object \n",
      " 3   Vehicle Name                  353974 non-null  object \n",
      " 4   Registration Valid Date       353974 non-null  object \n",
      " 5   Registration Expiration Date  0 non-null       float64\n",
      " 6   Technology                    353754 non-null  object \n",
      "dtypes: float64(1), int64(1), object(5)\n",
      "memory usage: 18.9+ MB\n",
      "None\n"
     ]
    }
   ],
   "source": [
    "print(flev.head())\n",
    "print(flev.info())"
   ]
  },
  {
   "cell_type": "code",
   "execution_count": 37,
   "metadata": {},
   "outputs": [],
   "source": [
    "# Step 2: Drop specified columns\n",
    "columns_to_drop = ['DMV ID', 'DMV Snapshot (Date)', 'County', 'Registration Expiration Date']\n",
    "flev.drop(columns=columns_to_drop, inplace=True)"
   ]
  },
  {
   "cell_type": "code",
   "execution_count": 38,
   "metadata": {},
   "outputs": [
    {
     "name": "stdout",
     "output_type": "stream",
     "text": [
      "    Vehicle Name Registration Valid Date Technology\n",
      "0  Tesla Model X               6/30/2018        BEV\n",
      "1  Tesla Model X               6/30/2018        BEV\n",
      "2  Tesla Model X               6/30/2018        BEV\n",
      "3  Tesla Model X               6/30/2018        BEV\n",
      "4  Tesla Model X               6/30/2018        BEV\n",
      "<class 'pandas.core.frame.DataFrame'>\n",
      "RangeIndex: 353974 entries, 0 to 353973\n",
      "Data columns (total 3 columns):\n",
      " #   Column                   Non-Null Count   Dtype \n",
      "---  ------                   --------------   ----- \n",
      " 0   Vehicle Name             353974 non-null  object\n",
      " 1   Registration Valid Date  353974 non-null  object\n",
      " 2   Technology               353754 non-null  object\n",
      "dtypes: object(3)\n",
      "memory usage: 8.1+ MB\n",
      "None\n"
     ]
    }
   ],
   "source": [
    "# Step 3: Inspect the data\n",
    "print(flev.head())\n",
    "print(flev.info())"
   ]
  },
  {
   "cell_type": "code",
   "execution_count": 39,
   "metadata": {},
   "outputs": [
    {
     "name": "stdout",
     "output_type": "stream",
     "text": [
      "Vehicle Name                 0\n",
      "Registration Valid Date      0\n",
      "Technology                 220\n",
      "dtype: int64\n"
     ]
    }
   ],
   "source": [
    "# Step 4: Check for null values\n",
    "null_values = flev.isnull().sum()\n",
    "print(null_values)"
   ]
  },
  {
   "cell_type": "code",
   "execution_count": 40,
   "metadata": {},
   "outputs": [],
   "source": [
    "# Step 5: Handle null values - Fill with 'Unknown'\n",
    "flev['Technology'].fillna('Unknown', inplace=True)"
   ]
  },
  {
   "cell_type": "code",
   "execution_count": 41,
   "metadata": {},
   "outputs": [
    {
     "name": "stdout",
     "output_type": "stream",
     "text": [
      "Vehicle Name               0\n",
      "Registration Valid Date    0\n",
      "Technology                 0\n",
      "dtype: int64\n"
     ]
    }
   ],
   "source": [
    "# Verify that there are no more null values in the \"Technology\" column\n",
    "null_values_filled = flev.isnull().sum()\n",
    "print(null_values_filled)"
   ]
  },
  {
   "cell_type": "code",
   "execution_count": 42,
   "metadata": {},
   "outputs": [],
   "source": [
    "# Step 6: Save the cleaned data\n",
    "output_file_path = 'cleaned_flev_data.csv'\n",
    "flev.to_csv(output_file_path, index=False)"
   ]
  },
  {
   "cell_type": "code",
   "execution_count": 43,
   "metadata": {},
   "outputs": [],
   "source": [
    "# Step 1: Load the data with low_memory=False to handle mixed types warning\n",
    "tx = pd.read_csv('txev_data.csv', low_memory=False)"
   ]
  },
  {
   "cell_type": "code",
   "execution_count": 44,
   "metadata": {},
   "outputs": [
    {
     "name": "stdout",
     "output_type": "stream",
     "text": [
      "  State ZIP Code Registration Date Vehicle Make Vehicle Model  \\\n",
      "0    TX    78207          9/1/2022        TESLA       MODEL 3   \n",
      "1    TX    77095          9/1/2022        TESLA       MODEL 3   \n",
      "2    TX    75409          9/1/2022        TESLA       MODEL 3   \n",
      "3    TX    78731          9/1/2022        TESLA       MODEL 3   \n",
      "4    TX    75013          9/1/2022        TESLA       MODEL 3   \n",
      "\n",
      "   Vehicle Model Year Drivetrain Type Vehicle GVWR Class  \\\n",
      "0                2021             BEV                  1   \n",
      "1                2021             BEV                  1   \n",
      "2                2021             BEV                  1   \n",
      "3                2021             BEV                  1   \n",
      "4                2021             BEV                  1   \n",
      "\n",
      "     Vehicle GVWR Category  Vehicle Count  DMV Snapshot ID  \\\n",
      "0  Light-Duty (Class 1-2A)              1                5   \n",
      "1  Light-Duty (Class 1-2A)              1                5   \n",
      "2  Light-Duty (Class 1-2A)              1                5   \n",
      "3  Light-Duty (Class 1-2A)              1                5   \n",
      "4  Light-Duty (Class 1-2A)              1                5   \n",
      "\n",
      "       DMV Snapshot (Date)  Latest DMV Snapshot Flag  \n",
      "0  DMV Snapshot (1/1/2023)                     False  \n",
      "1  DMV Snapshot (1/1/2023)                     False  \n",
      "2  DMV Snapshot (1/1/2023)                     False  \n",
      "3  DMV Snapshot (1/1/2023)                     False  \n",
      "4  DMV Snapshot (1/1/2023)                     False  \n",
      "<class 'pandas.core.frame.DataFrame'>\n",
      "RangeIndex: 1882883 entries, 0 to 1882882\n",
      "Data columns (total 13 columns):\n",
      " #   Column                    Dtype \n",
      "---  ------                    ----- \n",
      " 0   State                     object\n",
      " 1   ZIP Code                  object\n",
      " 2   Registration Date         object\n",
      " 3   Vehicle Make              object\n",
      " 4   Vehicle Model             object\n",
      " 5   Vehicle Model Year        int64 \n",
      " 6   Drivetrain Type           object\n",
      " 7   Vehicle GVWR Class        object\n",
      " 8   Vehicle GVWR Category     object\n",
      " 9   Vehicle Count             int64 \n",
      " 10  DMV Snapshot ID           int64 \n",
      " 11  DMV Snapshot (Date)       object\n",
      " 12  Latest DMV Snapshot Flag  bool  \n",
      "dtypes: bool(1), int64(3), object(9)\n",
      "memory usage: 174.2+ MB\n",
      "None\n"
     ]
    }
   ],
   "source": [
    "# Step 2: Inspect the data to understand the structure\n",
    "print(tx.head())\n",
    "print(tx.info())\n"
   ]
  },
  {
   "cell_type": "code",
   "execution_count": 45,
   "metadata": {},
   "outputs": [],
   "source": [
    "# Step 2: Drop specified columns\n",
    "columns_to_drop = ['ZIP Code', 'Vehicle GVWR Class', 'Vehicle GVWR Category', 'DMV Snapshot ID', 'DMV Snapshot (Date)', 'Latest DMV Snapshot Flag']\n",
    "tx.drop(columns=columns_to_drop, inplace=True)"
   ]
  },
  {
   "cell_type": "code",
   "execution_count": 46,
   "metadata": {},
   "outputs": [
    {
     "name": "stdout",
     "output_type": "stream",
     "text": [
      "  State Registration Date Vehicle Make Vehicle Model  Vehicle Model Year  \\\n",
      "0    TX          9/1/2022        TESLA       MODEL 3                2021   \n",
      "1    TX          9/1/2022        TESLA       MODEL 3                2021   \n",
      "2    TX          9/1/2022        TESLA       MODEL 3                2021   \n",
      "3    TX          9/1/2022        TESLA       MODEL 3                2021   \n",
      "4    TX          9/1/2022        TESLA       MODEL 3                2021   \n",
      "\n",
      "  Drivetrain Type  Vehicle Count  \n",
      "0             BEV              1  \n",
      "1             BEV              1  \n",
      "2             BEV              1  \n",
      "3             BEV              1  \n",
      "4             BEV              1  \n",
      "<class 'pandas.core.frame.DataFrame'>\n",
      "RangeIndex: 1882883 entries, 0 to 1882882\n",
      "Data columns (total 7 columns):\n",
      " #   Column              Dtype \n",
      "---  ------              ----- \n",
      " 0   State               object\n",
      " 1   Registration Date   object\n",
      " 2   Vehicle Make        object\n",
      " 3   Vehicle Model       object\n",
      " 4   Vehicle Model Year  int64 \n",
      " 5   Drivetrain Type     object\n",
      " 6   Vehicle Count       int64 \n",
      "dtypes: int64(2), object(5)\n",
      "memory usage: 100.6+ MB\n",
      "None\n"
     ]
    }
   ],
   "source": [
    "# Step 2: Inspect the data to understand the structure\n",
    "print(tx.head())\n",
    "print(tx.info())"
   ]
  },
  {
   "cell_type": "code",
   "execution_count": 47,
   "metadata": {},
   "outputs": [
    {
     "name": "stdout",
     "output_type": "stream",
     "text": [
      "State                 0\n",
      "Registration Date     0\n",
      "Vehicle Make          0\n",
      "Vehicle Model         0\n",
      "Vehicle Model Year    0\n",
      "Drivetrain Type       0\n",
      "Vehicle Count         0\n",
      "dtype: int64\n"
     ]
    }
   ],
   "source": [
    "# Step 3: Check for null values\n",
    "null_values = tx.isnull().sum()\n",
    "print(null_values)"
   ]
  },
  {
   "cell_type": "code",
   "execution_count": 49,
   "metadata": {},
   "outputs": [],
   "source": [
    "# Step 2: Concatenate 'Vehicle Make' and 'Vehicle Model' into 'Vehicle Name'\n",
    "tx['Vehicle Name'] = tx['Vehicle Make'].str.title() + ' ' + tx['Vehicle Model'].str.title()"
   ]
  },
  {
   "cell_type": "code",
   "execution_count": 51,
   "metadata": {},
   "outputs": [],
   "source": [
    "# Step 3: Drop the original 'Vehicle Make' and 'Vehicle Model' columns\n",
    "columns_to_drop = ['Vehicle Make', 'Vehicle Model']\n",
    "tx.drop(columns=columns_to_drop, inplace=True)"
   ]
  },
  {
   "cell_type": "code",
   "execution_count": 52,
   "metadata": {},
   "outputs": [
    {
     "name": "stdout",
     "output_type": "stream",
     "text": [
      "  State Registration Date  Vehicle Model Year Drivetrain Type  Vehicle Count  \\\n",
      "0    TX          9/1/2022                2021             BEV              1   \n",
      "1    TX          9/1/2022                2021             BEV              1   \n",
      "2    TX          9/1/2022                2021             BEV              1   \n",
      "3    TX          9/1/2022                2021             BEV              1   \n",
      "4    TX          9/1/2022                2021             BEV              1   \n",
      "\n",
      "    Vehicle Name  \n",
      "0  Tesla Model 3  \n",
      "1  Tesla Model 3  \n",
      "2  Tesla Model 3  \n",
      "3  Tesla Model 3  \n",
      "4  Tesla Model 3  \n",
      "<class 'pandas.core.frame.DataFrame'>\n",
      "RangeIndex: 1882883 entries, 0 to 1882882\n",
      "Data columns (total 6 columns):\n",
      " #   Column              Dtype \n",
      "---  ------              ----- \n",
      " 0   State               object\n",
      " 1   Registration Date   object\n",
      " 2   Vehicle Model Year  int64 \n",
      " 3   Drivetrain Type     object\n",
      " 4   Vehicle Count       int64 \n",
      " 5   Vehicle Name        object\n",
      "dtypes: int64(2), object(4)\n",
      "memory usage: 86.2+ MB\n",
      "None\n"
     ]
    }
   ],
   "source": [
    "# Step 4: Inspect the data\n",
    "print(tx.head())\n",
    "print(tx.info())"
   ]
  },
  {
   "cell_type": "code",
   "execution_count": 53,
   "metadata": {},
   "outputs": [],
   "source": [
    "# Step 5: Save the cleaned data (if columns were dropped)\n",
    "output_file_path = 'cleaned_txev_data.csv'\n",
    "tx.to_csv(output_file_path, index=False)"
   ]
  },
  {
   "cell_type": "markdown",
   "metadata": {},
   "source": [
    "**COMBINING ALL THE DATA INTO A SINGLE CSV**"
   ]
  },
  {
   "cell_type": "code",
   "execution_count": 1,
   "metadata": {},
   "outputs": [],
   "source": [
    "import pandas as pd\n",
    "\n",
    "# Step 1: Load each cleaned dataset\n",
    "waev_data = pd.read_csv('cleaned_waev_data.csv')\n",
    "caev_data = pd.read_csv('cleaned_caev_data.csv')\n",
    "nyev_data = pd.read_csv('cleaned_nyev_data.csv')\n",
    "flev_data = pd.read_csv('cleaned_flev_data.csv')\n",
    "txev_data = pd.read_csv('cleaned_txev_data.csv')"
   ]
  },
  {
   "cell_type": "code",
   "execution_count": 20,
   "metadata": {},
   "outputs": [],
   "source": [
    "waev_data.rename(columns={'Registration Valid Date': 'Registration Date'}, inplace=True)"
   ]
  },
  {
   "cell_type": "code",
   "execution_count": 21,
   "metadata": {},
   "outputs": [
    {
     "data": {
      "text/html": [
       "<div>\n",
       "<style scoped>\n",
       "    .dataframe tbody tr th:only-of-type {\n",
       "        vertical-align: middle;\n",
       "    }\n",
       "\n",
       "    .dataframe tbody tr th {\n",
       "        vertical-align: top;\n",
       "    }\n",
       "\n",
       "    .dataframe thead th {\n",
       "        text-align: right;\n",
       "    }\n",
       "</style>\n",
       "<table border=\"1\" class=\"dataframe\">\n",
       "  <thead>\n",
       "    <tr style=\"text-align: right;\">\n",
       "      <th></th>\n",
       "      <th>State</th>\n",
       "      <th>Registration Date</th>\n",
       "      <th>Vehicle Name</th>\n",
       "      <th>Technology</th>\n",
       "    </tr>\n",
       "  </thead>\n",
       "  <tbody>\n",
       "    <tr>\n",
       "      <th>0</th>\n",
       "      <td>WA</td>\n",
       "      <td>6/7/2019</td>\n",
       "      <td>Tesla Model 3</td>\n",
       "      <td>BEV</td>\n",
       "    </tr>\n",
       "    <tr>\n",
       "      <th>1</th>\n",
       "      <td>WA</td>\n",
       "      <td>6/7/2019</td>\n",
       "      <td>Tesla Model 3</td>\n",
       "      <td>BEV</td>\n",
       "    </tr>\n",
       "    <tr>\n",
       "      <th>2</th>\n",
       "      <td>WA</td>\n",
       "      <td>6/7/2019</td>\n",
       "      <td>Tesla Model 3</td>\n",
       "      <td>BEV</td>\n",
       "    </tr>\n",
       "    <tr>\n",
       "      <th>3</th>\n",
       "      <td>WA</td>\n",
       "      <td>6/7/2019</td>\n",
       "      <td>Tesla Model 3</td>\n",
       "      <td>BEV</td>\n",
       "    </tr>\n",
       "    <tr>\n",
       "      <th>4</th>\n",
       "      <td>WA</td>\n",
       "      <td>6/7/2019</td>\n",
       "      <td>Tesla Model 3</td>\n",
       "      <td>BEV</td>\n",
       "    </tr>\n",
       "  </tbody>\n",
       "</table>\n",
       "</div>"
      ],
      "text/plain": [
       "  State Registration Date   Vehicle Name Technology\n",
       "0    WA          6/7/2019  Tesla Model 3        BEV\n",
       "1    WA          6/7/2019  Tesla Model 3        BEV\n",
       "2    WA          6/7/2019  Tesla Model 3        BEV\n",
       "3    WA          6/7/2019  Tesla Model 3        BEV\n",
       "4    WA          6/7/2019  Tesla Model 3        BEV"
      ]
     },
     "execution_count": 21,
     "metadata": {},
     "output_type": "execute_result"
    }
   ],
   "source": [
    "waev_data.head()"
   ]
  },
  {
   "cell_type": "code",
   "execution_count": 46,
   "metadata": {},
   "outputs": [
    {
     "name": "stdout",
     "output_type": "stream",
     "text": [
      "  State   Vehicle Name Technology Registration Date\n",
      "0    WA  Tesla Model 3        BEV          6/7/2019\n",
      "1    WA  Tesla Model 3        BEV          6/7/2019\n",
      "2    WA  Tesla Model 3        BEV          6/7/2019\n",
      "3    WA  Tesla Model 3        BEV          6/7/2019\n",
      "4    WA  Tesla Model 3        BEV          6/7/2019\n"
     ]
    }
   ],
   "source": [
    "# Define the desired column order\n",
    "column_order = ['State', 'Vehicle Name', 'Technology', 'Registration Date']\n",
    "\n",
    "# Step 3: Reorder the columns\n",
    "waev_data = waev_data[column_order]\n",
    "\n",
    "# Display the DataFrame to verify\n",
    "print(waev_data.head())"
   ]
  },
  {
   "cell_type": "code",
   "execution_count": 7,
   "metadata": {},
   "outputs": [
    {
     "data": {
      "text/html": [
       "<div>\n",
       "<style scoped>\n",
       "    .dataframe tbody tr th:only-of-type {\n",
       "        vertical-align: middle;\n",
       "    }\n",
       "\n",
       "    .dataframe tbody tr th {\n",
       "        vertical-align: top;\n",
       "    }\n",
       "\n",
       "    .dataframe thead th {\n",
       "        text-align: right;\n",
       "    }\n",
       "</style>\n",
       "<table border=\"1\" class=\"dataframe\">\n",
       "  <thead>\n",
       "    <tr style=\"text-align: right;\">\n",
       "      <th></th>\n",
       "      <th>Registration Valid Date</th>\n",
       "      <th>State Abbreviation</th>\n",
       "      <th>Vehicle Name</th>\n",
       "    </tr>\n",
       "  </thead>\n",
       "  <tbody>\n",
       "    <tr>\n",
       "      <th>0</th>\n",
       "      <td>2011-01-01</td>\n",
       "      <td>CA</td>\n",
       "      <td>Chevrolet Volt</td>\n",
       "    </tr>\n",
       "    <tr>\n",
       "      <th>1</th>\n",
       "      <td>2011-01-01</td>\n",
       "      <td>CA</td>\n",
       "      <td>Nissan Leaf</td>\n",
       "    </tr>\n",
       "    <tr>\n",
       "      <th>2</th>\n",
       "      <td>2011-01-01</td>\n",
       "      <td>CA</td>\n",
       "      <td>Chevrolet Volt</td>\n",
       "    </tr>\n",
       "    <tr>\n",
       "      <th>3</th>\n",
       "      <td>2011-01-01</td>\n",
       "      <td>CA</td>\n",
       "      <td>Tesla Roadster</td>\n",
       "    </tr>\n",
       "    <tr>\n",
       "      <th>4</th>\n",
       "      <td>2011-01-01</td>\n",
       "      <td>CA</td>\n",
       "      <td>Tesla Roadster</td>\n",
       "    </tr>\n",
       "  </tbody>\n",
       "</table>\n",
       "</div>"
      ],
      "text/plain": [
       "  Registration Valid Date State Abbreviation    Vehicle Name\n",
       "0              2011-01-01                 CA  Chevrolet Volt\n",
       "1              2011-01-01                 CA     Nissan Leaf\n",
       "2              2011-01-01                 CA  Chevrolet Volt\n",
       "3              2011-01-01                 CA  Tesla Roadster\n",
       "4              2011-01-01                 CA  Tesla Roadster"
      ]
     },
     "execution_count": 7,
     "metadata": {},
     "output_type": "execute_result"
    }
   ],
   "source": [
    "caev_data.head()"
   ]
  },
  {
   "cell_type": "code",
   "execution_count": 23,
   "metadata": {},
   "outputs": [],
   "source": [
    "# Rename columns in caev_data\n",
    "caev_data.rename(columns={\n",
    "    'Registration Valid Date': 'Registration Date',\n",
    "    'State Abbreviation': 'State'\n",
    "}, inplace=True)"
   ]
  },
  {
   "cell_type": "code",
   "execution_count": 24,
   "metadata": {},
   "outputs": [],
   "source": [
    "# Create a mapping from Vehicle Name to Technology in waev_data\n",
    "technology_mapping = waev_data.set_index('Vehicle Name')['Technology'].to_dict()"
   ]
  },
  {
   "cell_type": "code",
   "execution_count": 25,
   "metadata": {},
   "outputs": [],
   "source": [
    "# Apply the mapping to create the Technology column in caev_data\n",
    "caev_data['Technology'] = caev_data['Vehicle Name'].map(technology_mapping)"
   ]
  },
  {
   "cell_type": "code",
   "execution_count": 26,
   "metadata": {},
   "outputs": [],
   "source": [
    "# Fill any missing values in the Technology column with a default value, e.g., 'Unknown'\n",
    "caev_data['Technology'].fillna('Unknown', inplace=True)"
   ]
  },
  {
   "cell_type": "code",
   "execution_count": 29,
   "metadata": {},
   "outputs": [],
   "source": [
    "# Change the date format from 'year-month-day' to 'day/month/year'\n",
    "caev_data['Registration Date'] = pd.to_datetime(caev_data['Registration Date']).dt.strftime('%d/%m/%Y')\n"
   ]
  },
  {
   "cell_type": "code",
   "execution_count": 27,
   "metadata": {},
   "outputs": [],
   "source": [
    "# Reorder the columns\n",
    "column_order = ['State', 'Registration Date', 'Vehicle Name', 'Technology']\n",
    "caev_data = caev_data[column_order]"
   ]
  },
  {
   "cell_type": "code",
   "execution_count": 47,
   "metadata": {},
   "outputs": [
    {
     "name": "stdout",
     "output_type": "stream",
     "text": [
      "  State    Vehicle Name Technology Registration Date\n",
      "0    CA  Chevrolet Volt       PHEV        01/01/2011\n",
      "1    CA     Nissan Leaf        BEV        01/01/2011\n",
      "2    CA  Chevrolet Volt       PHEV        01/01/2011\n",
      "3    CA  Tesla Roadster        BEV        01/01/2011\n",
      "4    CA  Tesla Roadster        BEV        01/01/2011\n"
     ]
    }
   ],
   "source": [
    "# Define the desired column order\n",
    "column_order = ['State', 'Vehicle Name', 'Technology', 'Registration Date']\n",
    "\n",
    "\n",
    "# Step 3: Reorder the columns\n",
    "caev_data = caev_data[column_order]\n",
    "\n",
    "# Display the DataFrame to verify\n",
    "print(caev_data.head())"
   ]
  },
  {
   "cell_type": "code",
   "execution_count": 8,
   "metadata": {},
   "outputs": [
    {
     "data": {
      "text/html": [
       "<div>\n",
       "<style scoped>\n",
       "    .dataframe tbody tr th:only-of-type {\n",
       "        vertical-align: middle;\n",
       "    }\n",
       "\n",
       "    .dataframe tbody tr th {\n",
       "        vertical-align: top;\n",
       "    }\n",
       "\n",
       "    .dataframe thead th {\n",
       "        text-align: right;\n",
       "    }\n",
       "</style>\n",
       "<table border=\"1\" class=\"dataframe\">\n",
       "  <thead>\n",
       "    <tr style=\"text-align: right;\">\n",
       "      <th></th>\n",
       "      <th>State</th>\n",
       "      <th>Registration Date</th>\n",
       "      <th>Vehicle Model Year</th>\n",
       "      <th>Drivetrain Type</th>\n",
       "      <th>Vehicle Count</th>\n",
       "      <th>Vehicle Name</th>\n",
       "    </tr>\n",
       "  </thead>\n",
       "  <tbody>\n",
       "    <tr>\n",
       "      <th>0</th>\n",
       "      <td>NY</td>\n",
       "      <td>12/1/2018</td>\n",
       "      <td>2018</td>\n",
       "      <td>BEV</td>\n",
       "      <td>1</td>\n",
       "      <td>Tesla Model 3</td>\n",
       "    </tr>\n",
       "    <tr>\n",
       "      <th>1</th>\n",
       "      <td>NY</td>\n",
       "      <td>12/1/2018</td>\n",
       "      <td>2018</td>\n",
       "      <td>BEV</td>\n",
       "      <td>1</td>\n",
       "      <td>Tesla Model 3</td>\n",
       "    </tr>\n",
       "    <tr>\n",
       "      <th>2</th>\n",
       "      <td>NY</td>\n",
       "      <td>12/1/2018</td>\n",
       "      <td>2018</td>\n",
       "      <td>BEV</td>\n",
       "      <td>1</td>\n",
       "      <td>Tesla Model 3</td>\n",
       "    </tr>\n",
       "    <tr>\n",
       "      <th>3</th>\n",
       "      <td>NY</td>\n",
       "      <td>12/1/2018</td>\n",
       "      <td>2018</td>\n",
       "      <td>BEV</td>\n",
       "      <td>1</td>\n",
       "      <td>Tesla Model 3</td>\n",
       "    </tr>\n",
       "    <tr>\n",
       "      <th>4</th>\n",
       "      <td>NY</td>\n",
       "      <td>12/1/2018</td>\n",
       "      <td>2018</td>\n",
       "      <td>BEV</td>\n",
       "      <td>1</td>\n",
       "      <td>Tesla Model 3</td>\n",
       "    </tr>\n",
       "  </tbody>\n",
       "</table>\n",
       "</div>"
      ],
      "text/plain": [
       "  State Registration Date  Vehicle Model Year Drivetrain Type  Vehicle Count  \\\n",
       "0    NY         12/1/2018                2018             BEV              1   \n",
       "1    NY         12/1/2018                2018             BEV              1   \n",
       "2    NY         12/1/2018                2018             BEV              1   \n",
       "3    NY         12/1/2018                2018             BEV              1   \n",
       "4    NY         12/1/2018                2018             BEV              1   \n",
       "\n",
       "    Vehicle Name  \n",
       "0  Tesla Model 3  \n",
       "1  Tesla Model 3  \n",
       "2  Tesla Model 3  \n",
       "3  Tesla Model 3  \n",
       "4  Tesla Model 3  "
      ]
     },
     "execution_count": 8,
     "metadata": {},
     "output_type": "execute_result"
    }
   ],
   "source": [
    "nyev_data.head()"
   ]
  },
  {
   "cell_type": "code",
   "execution_count": 31,
   "metadata": {},
   "outputs": [],
   "source": [
    "# Step 1: Drop the Vehicle Count column\n",
    "nyev_data.drop(columns=['Vehicle Count'], inplace=True)"
   ]
  },
  {
   "cell_type": "code",
   "execution_count": 32,
   "metadata": {},
   "outputs": [],
   "source": [
    "# Step 2: Rename the Drivetrain Type column to Technology\n",
    "nyev_data.rename(columns={'Drivetrain Type': 'Technology'}, inplace=True)"
   ]
  },
  {
   "cell_type": "code",
   "execution_count": 33,
   "metadata": {},
   "outputs": [
    {
     "name": "stdout",
     "output_type": "stream",
     "text": [
      "  State Registration Date  Vehicle Model Year Technology   Vehicle Name\n",
      "0    NY         12/1/2018                2018        BEV  Tesla Model 3\n",
      "1    NY         12/1/2018                2018        BEV  Tesla Model 3\n",
      "2    NY         12/1/2018                2018        BEV  Tesla Model 3\n",
      "3    NY         12/1/2018                2018        BEV  Tesla Model 3\n",
      "4    NY         12/1/2018                2018        BEV  Tesla Model 3\n"
     ]
    }
   ],
   "source": [
    "# Display the DataFrame to verify\n",
    "print(nyev_data.head())"
   ]
  },
  {
   "cell_type": "code",
   "execution_count": 34,
   "metadata": {},
   "outputs": [],
   "source": [
    "# Step 1: Drop the Vehicle Model Year column\n",
    "nyev_data.drop(columns=['Vehicle Model Year'], inplace=True)"
   ]
  },
  {
   "cell_type": "code",
   "execution_count": 48,
   "metadata": {},
   "outputs": [
    {
     "name": "stdout",
     "output_type": "stream",
     "text": [
      "  State   Vehicle Name Technology Registration Date\n",
      "0    NY  Tesla Model 3        BEV         12/1/2018\n",
      "1    NY  Tesla Model 3        BEV         12/1/2018\n",
      "2    NY  Tesla Model 3        BEV         12/1/2018\n",
      "3    NY  Tesla Model 3        BEV         12/1/2018\n",
      "4    NY  Tesla Model 3        BEV         12/1/2018\n"
     ]
    }
   ],
   "source": [
    "# Define the desired column order\n",
    "column_order = ['State', 'Vehicle Name', 'Technology', 'Registration Date']\n",
    "\n",
    "\n",
    "# Step 3: Reorder the columns\n",
    "nyev_data = nyev_data[column_order]\n",
    "\n",
    "# Display the DataFrame to verify\n",
    "print(nyev_data.head())"
   ]
  },
  {
   "cell_type": "code",
   "execution_count": 9,
   "metadata": {},
   "outputs": [
    {
     "data": {
      "text/html": [
       "<div>\n",
       "<style scoped>\n",
       "    .dataframe tbody tr th:only-of-type {\n",
       "        vertical-align: middle;\n",
       "    }\n",
       "\n",
       "    .dataframe tbody tr th {\n",
       "        vertical-align: top;\n",
       "    }\n",
       "\n",
       "    .dataframe thead th {\n",
       "        text-align: right;\n",
       "    }\n",
       "</style>\n",
       "<table border=\"1\" class=\"dataframe\">\n",
       "  <thead>\n",
       "    <tr style=\"text-align: right;\">\n",
       "      <th></th>\n",
       "      <th>Vehicle Name</th>\n",
       "      <th>Registration Valid Date</th>\n",
       "      <th>Technology</th>\n",
       "    </tr>\n",
       "  </thead>\n",
       "  <tbody>\n",
       "    <tr>\n",
       "      <th>0</th>\n",
       "      <td>Tesla Model X</td>\n",
       "      <td>6/30/2018</td>\n",
       "      <td>BEV</td>\n",
       "    </tr>\n",
       "    <tr>\n",
       "      <th>1</th>\n",
       "      <td>Tesla Model X</td>\n",
       "      <td>6/30/2018</td>\n",
       "      <td>BEV</td>\n",
       "    </tr>\n",
       "    <tr>\n",
       "      <th>2</th>\n",
       "      <td>Tesla Model X</td>\n",
       "      <td>6/30/2018</td>\n",
       "      <td>BEV</td>\n",
       "    </tr>\n",
       "    <tr>\n",
       "      <th>3</th>\n",
       "      <td>Tesla Model X</td>\n",
       "      <td>6/30/2018</td>\n",
       "      <td>BEV</td>\n",
       "    </tr>\n",
       "    <tr>\n",
       "      <th>4</th>\n",
       "      <td>Tesla Model X</td>\n",
       "      <td>6/30/2018</td>\n",
       "      <td>BEV</td>\n",
       "    </tr>\n",
       "  </tbody>\n",
       "</table>\n",
       "</div>"
      ],
      "text/plain": [
       "    Vehicle Name Registration Valid Date Technology\n",
       "0  Tesla Model X               6/30/2018        BEV\n",
       "1  Tesla Model X               6/30/2018        BEV\n",
       "2  Tesla Model X               6/30/2018        BEV\n",
       "3  Tesla Model X               6/30/2018        BEV\n",
       "4  Tesla Model X               6/30/2018        BEV"
      ]
     },
     "execution_count": 9,
     "metadata": {},
     "output_type": "execute_result"
    }
   ],
   "source": [
    "flev_data.head()"
   ]
  },
  {
   "cell_type": "code",
   "execution_count": 38,
   "metadata": {},
   "outputs": [],
   "source": [
    "# Step 1: Add the State column and fill it with 'FL'\n",
    "flev_data['State'] = 'FL'"
   ]
  },
  {
   "cell_type": "code",
   "execution_count": 39,
   "metadata": {},
   "outputs": [],
   "source": [
    "# Step 2: Rename the Registration Valid Date column to Registration Date\n",
    "flev_data.rename(columns={'Registration Valid Date': 'Registration Date'}, inplace=True)"
   ]
  },
  {
   "cell_type": "code",
   "execution_count": 49,
   "metadata": {},
   "outputs": [
    {
     "name": "stdout",
     "output_type": "stream",
     "text": [
      "  State   Vehicle Name Technology Registration Date\n",
      "0    FL  Tesla Model X        BEV         6/30/2018\n",
      "1    FL  Tesla Model X        BEV         6/30/2018\n",
      "2    FL  Tesla Model X        BEV         6/30/2018\n",
      "3    FL  Tesla Model X        BEV         6/30/2018\n",
      "4    FL  Tesla Model X        BEV         6/30/2018\n"
     ]
    }
   ],
   "source": [
    "# Define the desired column order\n",
    "column_order = ['State', 'Vehicle Name', 'Technology', 'Registration Date']\n",
    "\n",
    "\n",
    "# Step 3: Reorder the columns\n",
    "flev_data = flev_data[column_order]\n",
    "\n",
    "# Display the DataFrame to verify\n",
    "print(flev_data.head())"
   ]
  },
  {
   "cell_type": "code",
   "execution_count": 10,
   "metadata": {},
   "outputs": [
    {
     "data": {
      "text/html": [
       "<div>\n",
       "<style scoped>\n",
       "    .dataframe tbody tr th:only-of-type {\n",
       "        vertical-align: middle;\n",
       "    }\n",
       "\n",
       "    .dataframe tbody tr th {\n",
       "        vertical-align: top;\n",
       "    }\n",
       "\n",
       "    .dataframe thead th {\n",
       "        text-align: right;\n",
       "    }\n",
       "</style>\n",
       "<table border=\"1\" class=\"dataframe\">\n",
       "  <thead>\n",
       "    <tr style=\"text-align: right;\">\n",
       "      <th></th>\n",
       "      <th>State</th>\n",
       "      <th>Registration Date</th>\n",
       "      <th>Vehicle Model Year</th>\n",
       "      <th>Drivetrain Type</th>\n",
       "      <th>Vehicle Count</th>\n",
       "      <th>Vehicle Name</th>\n",
       "    </tr>\n",
       "  </thead>\n",
       "  <tbody>\n",
       "    <tr>\n",
       "      <th>0</th>\n",
       "      <td>TX</td>\n",
       "      <td>9/1/2022</td>\n",
       "      <td>2021</td>\n",
       "      <td>BEV</td>\n",
       "      <td>1</td>\n",
       "      <td>Tesla Model 3</td>\n",
       "    </tr>\n",
       "    <tr>\n",
       "      <th>1</th>\n",
       "      <td>TX</td>\n",
       "      <td>9/1/2022</td>\n",
       "      <td>2021</td>\n",
       "      <td>BEV</td>\n",
       "      <td>1</td>\n",
       "      <td>Tesla Model 3</td>\n",
       "    </tr>\n",
       "    <tr>\n",
       "      <th>2</th>\n",
       "      <td>TX</td>\n",
       "      <td>9/1/2022</td>\n",
       "      <td>2021</td>\n",
       "      <td>BEV</td>\n",
       "      <td>1</td>\n",
       "      <td>Tesla Model 3</td>\n",
       "    </tr>\n",
       "    <tr>\n",
       "      <th>3</th>\n",
       "      <td>TX</td>\n",
       "      <td>9/1/2022</td>\n",
       "      <td>2021</td>\n",
       "      <td>BEV</td>\n",
       "      <td>1</td>\n",
       "      <td>Tesla Model 3</td>\n",
       "    </tr>\n",
       "    <tr>\n",
       "      <th>4</th>\n",
       "      <td>TX</td>\n",
       "      <td>9/1/2022</td>\n",
       "      <td>2021</td>\n",
       "      <td>BEV</td>\n",
       "      <td>1</td>\n",
       "      <td>Tesla Model 3</td>\n",
       "    </tr>\n",
       "  </tbody>\n",
       "</table>\n",
       "</div>"
      ],
      "text/plain": [
       "  State Registration Date  Vehicle Model Year Drivetrain Type  Vehicle Count  \\\n",
       "0    TX          9/1/2022                2021             BEV              1   \n",
       "1    TX          9/1/2022                2021             BEV              1   \n",
       "2    TX          9/1/2022                2021             BEV              1   \n",
       "3    TX          9/1/2022                2021             BEV              1   \n",
       "4    TX          9/1/2022                2021             BEV              1   \n",
       "\n",
       "    Vehicle Name  \n",
       "0  Tesla Model 3  \n",
       "1  Tesla Model 3  \n",
       "2  Tesla Model 3  \n",
       "3  Tesla Model 3  \n",
       "4  Tesla Model 3  "
      ]
     },
     "execution_count": 10,
     "metadata": {},
     "output_type": "execute_result"
    }
   ],
   "source": [
    "txev_data.head()"
   ]
  },
  {
   "cell_type": "code",
   "execution_count": 42,
   "metadata": {},
   "outputs": [],
   "source": [
    "# Step 1: Drop the Vehicle Model Year and Vehicle Count columns\n",
    "txev_data.drop(columns=['Vehicle Model Year', 'Vehicle Count'], inplace=True)\n"
   ]
  },
  {
   "cell_type": "code",
   "execution_count": 43,
   "metadata": {},
   "outputs": [],
   "source": [
    "# Step 2: Rename the Drivetrain Type column to Technology\n",
    "txev_data.rename(columns={'Drivetrain Type': 'Technology'}, inplace=True)"
   ]
  },
  {
   "cell_type": "code",
   "execution_count": 50,
   "metadata": {},
   "outputs": [
    {
     "name": "stdout",
     "output_type": "stream",
     "text": [
      "  State   Vehicle Name Technology Registration Date\n",
      "0    TX  Tesla Model 3        BEV          9/1/2022\n",
      "1    TX  Tesla Model 3        BEV          9/1/2022\n",
      "2    TX  Tesla Model 3        BEV          9/1/2022\n",
      "3    TX  Tesla Model 3        BEV          9/1/2022\n",
      "4    TX  Tesla Model 3        BEV          9/1/2022\n"
     ]
    }
   ],
   "source": [
    "# Define the desired column order\n",
    "column_order = ['State', 'Vehicle Name', 'Technology', 'Registration Date']\n",
    "\n",
    "\n",
    "# Step 3: Reorder the columns\n",
    "txev_data = txev_data[column_order]\n",
    "\n",
    "# Display the DataFrame to verify\n",
    "print(txev_data.head())"
   ]
  },
  {
   "cell_type": "code",
   "execution_count": 51,
   "metadata": {},
   "outputs": [
    {
     "name": "stdout",
     "output_type": "stream",
     "text": [
      "  State   Vehicle Name Technology Registration Date\n",
      "0    WA  Tesla Model 3        BEV          6/7/2019\n",
      "1    WA  Tesla Model 3        BEV          6/7/2019\n",
      "2    WA  Tesla Model 3        BEV          6/7/2019\n",
      "3    WA  Tesla Model 3        BEV          6/7/2019\n",
      "4    WA  Tesla Model 3        BEV          6/7/2019\n",
      "         State   Vehicle Name Technology Registration Date\n",
      "12994880    TX  Tesla Model 3        BEV         10/1/2023\n",
      "12994881    TX  Tesla Model 3        BEV         10/1/2023\n",
      "12994882    TX  Tesla Model 3        BEV         10/1/2023\n",
      "12994883    TX  Tesla Model 3        BEV         10/1/2023\n",
      "12994884    TX  Tesla Model 3        BEV         10/1/2023\n"
     ]
    }
   ],
   "source": [
    "# Concatenate all DataFrames into a single DataFrame\n",
    "all_ev_data = pd.concat([waev_data, caev_data, nyev_data, flev_data, txev_data], ignore_index=True)\n",
    "\n",
    "# Display the concatenated DataFrame to verify\n",
    "print(all_ev_data.head())\n",
    "print(all_ev_data.tail())"
   ]
  },
  {
   "cell_type": "code",
   "execution_count": 52,
   "metadata": {},
   "outputs": [
    {
     "name": "stdout",
     "output_type": "stream",
     "text": [
      "State                0\n",
      "Vehicle Name         0\n",
      "Technology           0\n",
      "Registration Date    0\n",
      "dtype: int64\n"
     ]
    }
   ],
   "source": [
    "# Check for null values in the concatenated DataFrame\n",
    "null_values = all_ev_data.isnull().sum()\n",
    "\n",
    "# Display the count of null values for each column\n",
    "print(null_values)"
   ]
  },
  {
   "cell_type": "code",
   "execution_count": 53,
   "metadata": {},
   "outputs": [
    {
     "name": "stdout",
     "output_type": "stream",
     "text": [
      "\n",
      "DataFrame saved to 'all_ev_data.csv'\n"
     ]
    }
   ],
   "source": [
    "# Save the concatenated DataFrame to a CSV file\n",
    "all_ev_data.to_csv('all_ev_data.csv', index=False)\n",
    "\n",
    "print(\"\\nDataFrame saved to 'all_ev_data.csv'\")"
   ]
  },
  {
   "cell_type": "code",
   "execution_count": 3,
   "metadata": {},
   "outputs": [],
   "source": [
    "import pandas as pd\n",
    "\n",
    "all_ev_data = pd.read_csv('all_ev_data.csv')"
   ]
  },
  {
   "cell_type": "code",
   "execution_count": 4,
   "metadata": {},
   "outputs": [
    {
     "name": "stdout",
     "output_type": "stream",
     "text": [
      "         State    Model Technology Registration Date  Brand\n",
      "0           WA  Model 3        BEV          6/7/2019  Tesla\n",
      "1           WA  Model 3        BEV          6/7/2019  Tesla\n",
      "2           WA  Model 3        BEV          6/7/2019  Tesla\n",
      "3           WA  Model 3        BEV          6/7/2019  Tesla\n",
      "4           WA  Model 3        BEV          6/7/2019  Tesla\n",
      "...        ...      ...        ...               ...    ...\n",
      "12994880    TX  Model 3        BEV         10/1/2023  Tesla\n",
      "12994881    TX  Model 3        BEV         10/1/2023  Tesla\n",
      "12994882    TX  Model 3        BEV         10/1/2023  Tesla\n",
      "12994883    TX  Model 3        BEV         10/1/2023  Tesla\n",
      "12994884    TX  Model 3        BEV         10/1/2023  Tesla\n",
      "\n",
      "[12994885 rows x 5 columns]\n"
     ]
    }
   ],
   "source": [
    "# Step 1: Create the Brand column\n",
    "all_ev_data['Brand'] = all_ev_data['Vehicle Name'].str.split().str[0]\n",
    "\n",
    "# Step 2: Update the Vehicle Name column to remove the first name\n",
    "all_ev_data['Vehicle Name'] = all_ev_data['Vehicle Name'].str.split().str[1:].apply(' '.join)\n",
    "\n",
    "# Step 3: Rename the Vehicle Name column to Model\n",
    "all_ev_data.rename(columns={'Vehicle Name': 'Model'}, inplace=True)\n",
    "\n",
    "# Display the DataFrame to verify\n",
    "print(all_ev_data)"
   ]
  },
  {
   "cell_type": "code",
   "execution_count": 5,
   "metadata": {},
   "outputs": [
    {
     "name": "stdout",
     "output_type": "stream",
     "text": [
      "\n",
      "DataFrame saved to 'all_ev_data.csv'\n"
     ]
    }
   ],
   "source": [
    "# Save the DataFrame to a CSV file\n",
    "all_ev_data.to_csv('all_ev_data.csv', index=False)\n",
    "\n",
    "print(\"\\nDataFrame saved to 'all_ev_data.csv'\")"
   ]
  }
 ],
 "metadata": {
  "kernelspec": {
   "display_name": "base",
   "language": "python",
   "name": "python3"
  },
  "language_info": {
   "codemirror_mode": {
    "name": "ipython",
    "version": 3
   },
   "file_extension": ".py",
   "mimetype": "text/x-python",
   "name": "python",
   "nbconvert_exporter": "python",
   "pygments_lexer": "ipython3",
   "version": "3.11.7"
  }
 },
 "nbformat": 4,
 "nbformat_minor": 2
}
